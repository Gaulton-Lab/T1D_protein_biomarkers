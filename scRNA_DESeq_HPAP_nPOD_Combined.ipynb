{
 "cells": [
  {
   "cell_type": "code",
   "execution_count": 1,
   "id": "1bd70b26",
   "metadata": {},
   "outputs": [],
   "source": [
    "suppressPackageStartupMessages(library(stringr))\n",
    "suppressPackageStartupMessages(library(parallel))\n",
    "suppressPackageStartupMessages(library(readr))\n",
    "suppressPackageStartupMessages(library(DESeq2))\n",
    "suppressPackageStartupMessages(library(beeswarm))\n",
    "suppressMessages(library(limma))\n",
    "suppressMessages(library(GenomicFeatures))\n",
    "suppressMessages(library(Seurat))\n",
    "suppressMessages(library(data.table))\n",
    "suppressMessages(library(lmtest))\n",
    "suppressMessages(library(readxl))"
   ]
  },
  {
   "cell_type": "markdown",
   "id": "6c9d1ca8",
   "metadata": {},
   "source": [
    "# Deseq"
   ]
  },
  {
   "cell_type": "code",
   "execution_count": 31,
   "id": "5ca3c6a4",
   "metadata": {},
   "outputs": [],
   "source": [
    "dir <- '/relgamal/'\n",
    "outdir <- '/relgamal/'\n",
    "\n",
    "files <- list.files(dir,pattern='_sample_gex_total_counts.txt')\n",
    "cells <- gsub('_sample_gex_total_counts.txt','', files) "
   ]
  },
  {
   "cell_type": "code",
   "execution_count": 32,
   "id": "36028f47",
   "metadata": {},
   "outputs": [],
   "source": [
    "samples <- c('HPAP-019','HPAP-020','HPAP-021','HPAP-022','HPAP-023','HPAP-024','HPAP-026','HPAP-028','HPAP-029','HPAP-032','HPAP-034','HPAP-035','HPAP-036','HPAP-037','HPAP-038','HPAP-039','HPAP-040','HPAP-042','HPAP-043','HPAP-044','HPAP-045','HPAP-047','HPAP-049','HPAP-050','HPAP-051','HPAP-052','HPAP-053','HPAP-054','HPAP-055','HPAP-056','HPAP-057','HPAP-058','HPAP-059','HPAP-061','HPAP-063','HPAP-064','HPAP-065','HPAP-070','HPAP-071','HPAP-072','HPAP-074','HPAP-075','HPAP-077','HPAP-079','HPAP-080','HPAP-081','HPAP-082','HPAP-083','HPAP-084','HPAP-085','HPAP-087','HPAP-088','HPAP-090','HPAP-091','HPAP-092','HPAP-099','HPAP-100','HPAP-101','HPAP-103','HPAP-104','HPAP-105','HPAP-106','HPAP-107','HPAP-108','HPAP-109')\n",
    "cond_t1d <- c('HPAP-020','HPAP-021','HPAP-023','HPAP-028','HPAP-032','HPAP-055','HPAP-064','HPAP-071','HPAP-084','HPAP-087')\n",
    "cond_t2d <- c('HPAP-051','HPAP-057','HPAP-058','HPAP-061','HPAP-065','HPAP-070','HPAP-079','HPAP-081','HPAP-083','HPAP-085','HPAP-088','HPAP-090','HPAP-091','HPAP-100','HPAP-106','HPAP-108', 'HPAP-109')\n",
    "aab <- c('HPAP-019', 'HPAP-024', 'HPAP-029', 'HPAP-038', 'HPAP-043', 'HPAP-045', 'HPAP-049', 'HPAP-050', 'HPAP-072', 'HPAP-092', 'HPAP-107')\n",
    "all_disease <- c(cond_t1d, cond_t2d, aab)\n",
    "nd <- setdiff(samples, all_disease)"
   ]
  },
  {
   "cell_type": "code",
   "execution_count": 2,
   "id": "satellite-appraisal",
   "metadata": {
    "scrolled": true
   },
   "outputs": [],
   "source": [
    "npod_matrix <- fread('/Acinar_all_nPOD_sample_gex_total_counts.txt')\n",
    "hpap_matrix <- fread('/Acinar_sample_gex_total_counts.txt')\n",
    "\n",
    "count_matrix <- cbind(hpap_matrix,npod_matrix)\n",
    "count_matrix <- as.data.frame(count_matrix)\n",
    "count_matrix <- count_matrix[,-which(colnames(count_matrix) %in% cond_t2d)]\n",
    "count_matrix <- count_matrix[,-grep('multi', colnames(count_matrix))]"
   ]
  },
  {
   "cell_type": "code",
   "execution_count": 34,
   "id": "modified-visiting",
   "metadata": {},
   "outputs": [],
   "source": [
    "count_matrix2 <- count_matrix\n",
    "count_matrix <- count_matrix[,c(2:ncol(count_matrix))]\n",
    "rownames(count_matrix) <- count_matrix2$V1"
   ]
  },
  {
   "cell_type": "code",
   "execution_count": 35,
   "id": "surrounded-samoa",
   "metadata": {},
   "outputs": [],
   "source": [
    "hpap_meta <- fread('/hpap_metadata.tsv')\n",
    "hpap_meta$condition <- NA\n",
    "hpap_meta$condition <- as.character(hpap_meta$condition)\n",
    "hpap_meta[which(hpap_meta$diabetes_status == 'ND'),]$condition <- 'ND'\n",
    "hpap_meta[which(hpap_meta$diabetes_status == 'Early'),]$condition <- 'T1D_early'\n",
    "hpap_meta[which(hpap_meta$diabetes_status == 'Late'),]$condition <- 'T1D_late'\n",
    "hpap_meta[which(hpap_meta$diabetes_status == 'One'),]$condition <- 1\n",
    "hpap_meta[which(hpap_meta$diabetes_status == 'Multiple'),]$condition <- hpap_meta[which(hpap_meta$diabetes_status == 'Multiple'),]$number_autoantibodies"
   ]
  },
  {
   "cell_type": "code",
   "execution_count": 36,
   "id": "sixth-terminal",
   "metadata": {},
   "outputs": [],
   "source": [
    "npod_meta <- fread('/nfs/lab/projects/nPOD/nPOD_metadata.txt')\n",
    "npod_meta$n_aab <- npod_meta$Condition_subtype\n",
    "\n",
    "npod_meta[which(npod_meta$Condition_subtype== 'Aab' & npod_meta$AutoAB_Status == 'Negative'),]$n_aab <- 0\n",
    "npod_meta[which(npod_meta$Condition_subtype== 'Aab' & npod_meta$AutoAB_Status == ''),]$n_aab <- 0\n",
    "npod_meta[which(npod_meta$Condition_subtype== 'Aab' & npod_meta$AutoAB_Status == 'mIAA+'),]$n_aab <- 1\n",
    "npod_meta[which(npod_meta$Condition_subtype== 'Aab' & npod_meta$AutoAB_Status == 'GADA+ IA-2A+ ZnT8A+ mIAA+'),]$n_aab <- 4\n",
    "npod_meta[which(npod_meta$Condition_subtype== 'Aab' & npod_meta$AutoAB_Status == 'GADA+IA-2A+'),]$n_aab <- 2\n",
    "npod_meta[which(npod_meta$Condition_subtype== 'Aab' & npod_meta$AutoAB_Status == 'GADA+ IA-2A+ ZnT8A+'),]$n_aab <- 3\n",
    "npod_meta[which(npod_meta$Condition_subtype== 'Aab' & npod_meta$AutoAB_Status == 'GADA+mIAA+'),]$n_aab <- 2\n",
    "npod_meta[which(npod_meta$Condition_subtype== 'Aab' & npod_meta$AutoAB_Status == 'IA-2A+ mIAA*+ ZnT8A+'),]$n_aab <- 3\n",
    "npod_meta[which(npod_meta$Condition_subtype== 'Aab' & npod_meta$AutoAB_Status == 'GADA+ZnT8A+'),]$n_aab <- 2\n",
    "npod_meta[which(npod_meta$Condition_subtype== 'Aab' & npod_meta$AutoAB_Status == 'GADA+'),]$n_aab <- 1\n",
    "npod_meta[which(npod_meta$Condition_subtype== 'Aab' & npod_meta$AutoAB_Status == 'GADA+IA-2A+ZnT8A+'),]$n_aab <- 3\n",
    "npod_meta[which(npod_meta$Condition_subtype== 'Aab' & npod_meta$AutoAB_Status == 'GADA+ IA2A+ ZnT8A+'),]$n_aab <- 3\n",
    "npod_meta[which(npod_meta$Condition_subtype== 'Aab' & npod_meta$AutoAB_Status == 'IA2A+ mIAA+* ZnT8A+'),]$n_aab <- 3\n",
    "npod_meta[which(npod_meta$Condition_subtype== 'Aab' & npod_meta$AutoAB_Status == 'GADA+ mIAA+*'),]$n_aab <- 2\n",
    "\n",
    "npod_meta$chemistry <- '10Xv3'\n",
    "npod_meta$tissue_source <- 'nPod'\n",
    "names(npod_meta)[1] <- 'donor_ID'\n",
    "names(npod_meta)[18] <- 'condition'"
   ]
  },
  {
   "cell_type": "code",
   "execution_count": 37,
   "id": "geological-height",
   "metadata": {},
   "outputs": [],
   "source": [
    "hpap_meta$scaled_bmi <- scale(hpap_meta$bmi)\n",
    "hpap_meta$scaled_age <- scale(hpap_meta$age_years)\n",
    "\n",
    "npod_meta$scaled_bmi <- scale(npod_meta$BMI)\n",
    "npod_meta$scaled_age <- scale(npod_meta$Age)\n",
    "\n",
    "hpap_meta <- hpap_meta[,c('donor_ID','Sex', 'scaled_bmi', 'scaled_age', 'tissue_source', 'chemistry', 'condition')]\n",
    "npod_meta <- npod_meta[,c('donor_ID','Sex', 'scaled_bmi', 'scaled_age', 'tissue_source', 'chemistry', 'condition')]\n",
    "\n",
    "hpap_meta$project <- 'HPAP'\n",
    "npod_meta$project <- 'nPOD'\n",
    "\n",
    "meta_fin <- rbind(hpap_meta, npod_meta)"
   ]
  },
  {
   "cell_type": "code",
   "execution_count": 39,
   "id": "sapphire-enough",
   "metadata": {},
   "outputs": [],
   "source": [
    "nd <- meta_fin[which(meta_fin$condition == 'ND'),]$donor_ID\n",
    "cond_t1d_early <- meta_fin[which(meta_fin$condition == 'T1D_early'),]$donor_ID\n",
    "cond_t1d_late <- meta_fin[which(meta_fin$condition == 'T1D_late'),]$donor_ID\n",
    "cond_t1d <- meta_fin[which(meta_fin$condition2 == 'T1D'),]$donor_ID\n",
    "cond_aab_one <- meta_fin[which(meta_fin$condition == 1),]$donor_ID\n",
    "cond_aab_two <- meta_fin[which(meta_fin$condition == 2),]$donor_ID\n",
    "cond_aab_three <- meta_fin[which(meta_fin$condition == 3),]$donor_ID\n",
    "cond_aab_multi <- meta_fin[which(meta_fin$condition2 == 'multi'),]$donor_ID"
   ]
  },
  {
   "cell_type": "code",
   "execution_count": 3,
   "id": "ff4af4fd",
   "metadata": {
    "scrolled": true
   },
   "outputs": [],
   "source": [
    "ff <- as.formula ('~ condition + project + scaled_bmi + Sex + scaled_age + chemistry + tissue_source')\n",
    "rr <- as.formula('~ project + scaled_bmi + Sex + scaled_age + chemistry + tissue_source')\n",
    "\n",
    "cell <- 'Acinar_all'\n",
    "raw_counts <- count_matrix\n",
    "raw_counts <- raw_counts[,(colSums(raw_counts != 0) > 0)]\n",
    "meta_cell <- subset(meta_fin, donor_ID %in% colnames(raw_counts))\n",
    "meta_cell <- meta_cell[!duplicated(meta_cell$donor_ID),]\n",
    "\n",
    "raw_counts <- raw_counts[,which(colnames(raw_counts) %in% meta_fin$donor_ID)]\n",
    "rownames(raw_counts) <- count_matrix$V1\n",
    "\n",
    "nd_raw_counts <- raw_counts[which(colnames(raw_counts)%in% nd)]\n",
    "aab_one_raw_counts <- raw_counts[which(colnames(raw_counts)%in% cond_aab_one)]\n",
    "aab_two_raw_counts <- raw_counts[which(colnames(raw_counts)%in% cond_aab_two)]\n",
    "aab_three_raw_counts <- raw_counts[which(colnames(raw_counts)%in% cond_aab_three)]\n",
    "aab_multi_raw_counts <- raw_counts[which(colnames(raw_counts)%in% cond_aab_multi)]\n",
    "t1d_raw_counts <- raw_counts[which(colnames(raw_counts)%in% cond_t1d)]\n",
    "t1d_early_raw_counts <- raw_counts[which(colnames(raw_counts)%in% cond_t1d_early)]\n",
    "t1d_late_raw_counts <- raw_counts[which(colnames(raw_counts)%in% cond_t1d_late)]\n",
    "\n",
    "n_nd <- floor(ncol(nd_raw_counts)/2)\n",
    "n_t1d_late <- floor(ncol(t1d_late_raw_counts)/2)\n",
    "\n",
    "nd_genes_to_keep0 <- list()\n",
    "nd_genes_to_keep <- list()\n",
    "for (a in 1:nrow(nd_raw_counts)){\n",
    "    test  <- nd_raw_counts[a,] \n",
    "    test2  <- as.data.frame(test)\n",
    "    test2 <- as.numeric(test2)\n",
    "    test3 <- table(test2)\n",
    "    test3 <- as.data.frame(test3)\n",
    "    test3$test2 <- unfactor(test3$test2)\n",
    "    test3$test2 <- as.numeric(test3$test2)\n",
    "    test4 <- test3[which(test3$test2 >= 5),]\n",
    "        if (sum(test4$Freq) >= n_nd){\n",
    "        nd_genes_to_keep0 <- rownames(test)\n",
    "        nd_genes_to_keep <- c(nd_genes_to_keep0, nd_genes_to_keep)\n",
    "        }\n",
    "    }\n",
    "\n",
    "\n",
    "t1d_late_genes_to_keep0 <- list()\n",
    "t1d_late_genes_to_keep <- list()\n",
    "for (b in 1:nrow(t1d_late_raw_counts)){\n",
    "    test  <- t1d_late_raw_counts[b,] \n",
    "    test2  <- as.data.frame(test)\n",
    "    test2 <- as.numeric(test2)\n",
    "    test3 <- table(test2)\n",
    "    test3 <- as.data.frame(test3)\n",
    "    test3$test2 <- unfactor(test3$test2)\n",
    "    test3$test2 <- as.numeric(test3$test2)\n",
    "    test4 <- test3[which(test3$test2 >= 5),]\n",
    "    if (sum(test4$Freq) >= n_t1d_late){\n",
    "        t1d_late_genes_to_keep0 <- rownames(test)\n",
    "        t1d_late_genes_to_keep <- c(t1d_late_genes_to_keep0, t1d_late_genes_to_keep)\n",
    "        }\n",
    "    }\n",
    "\n",
    "nd_t1d_late <- intersect(nd_genes_to_keep, t1d_late_genes_to_keep)\n",
    "\n",
    "if ('T1D_late' %in% meta_cell$condition && length(meta_cell$condition[which(meta_cell$condition == 'T1D_late')]) > 1){\n",
    "    print(cell)\n",
    "    counts <- raw_counts[which(rownames(raw_counts)%in% nd_aab_three),]\n",
    "\n",
    "    my_design <- ff\n",
    "    dds <- DESeqDataSetFromMatrix(round(counts), colData = meta_cell, design = my_design) #colData is where design columns are found\n",
    "    dds <- estimateSizeFactors(dds)\n",
    "    dds <- estimateDispersions(dds)\n",
    "    dds2 <- dds\n",
    "\n",
    "    ### Pairwise Wald test: conditon vs control  \n",
    "    dds2 <- nbinomWaldTest(dds2)\n",
    "    tests <- c('T1D_late')\n",
    "    for(y in tests){\n",
    "        res <- results(dds2, contrast=c('condition',y,'ND'))\n",
    "        res <- as.data.frame(res)\n",
    "        res <- res[order(res$pvalue),]\n",
    "        outfile <- paste0( cell, '.deseq.WaldTest.', y , '.tsv')        \n",
    "    }     \n",
    "        }\n",
    "\n",
    "res[which(rownames(res) %in% c('CPA1','PRSS2', 'PNLIPRP1')),]"
   ]
  },
  {
   "cell_type": "markdown",
   "id": "stable-possession",
   "metadata": {},
   "source": [
    "# DESeq with Continuous Disease Progression"
   ]
  },
  {
   "cell_type": "code",
   "execution_count": 11,
   "id": "pacific-assault",
   "metadata": {},
   "outputs": [
    {
     "name": "stdout",
     "output_type": "stream",
     "text": [
      "[1] \"Acinar\"\n"
     ]
    },
    {
     "name": "stderr",
     "output_type": "stream",
     "text": [
      "converting counts to integer mode\n",
      "\n",
      "Warning message in DESeqDataSet(se, design = design, ignoreRank):\n",
      "“some variables in design formula are characters, converting to factors”\n",
      "  the design formula contains one or more numeric variables with integer values,\n",
      "  specifying a model with increasing fold change for higher values.\n",
      "  did you mean for this to be a factor? if so, first convert\n",
      "  this variable to a factor using the factor() function\n",
      "\n",
      "estimating size factors\n",
      "\n",
      "estimating dispersions\n",
      "\n",
      "gene-wise dispersion estimates\n",
      "\n",
      "mean-dispersion relationship\n",
      "\n",
      "final dispersion estimates\n",
      "\n",
      "fitting model and testing\n",
      "\n",
      "2 rows did not converge in beta, labelled in mcols(object)$betaConv. Use larger maxit argument with nbinomWaldTest\n",
      "\n"
     ]
    }
   ],
   "source": [
    "meta_fin[which(meta_fin$condition == 'ND'),]$condition <- 1\n",
    "meta_fin[which(meta_fin$condition == '2'),]$condition <- 2\n",
    "meta_fin[which(meta_fin$condition == '2'),]$condition <- 3\n",
    "meta_fin[which(meta_fin$condition == '3'),]$condition <- 4\n",
    "meta_fin[which(meta_fin$condition == 'T1D_early'),]$condition <- 5\n",
    "meta_fin[which(meta_fin$condition == 'T1D_late'),]$condition <- 6\n",
    "meta_fin$condition <- as.numeric(meta_fin$condition)\n",
    "\n",
    "cell <- c('Acinar')\n",
    "raw_counts <- count_matrix\n",
    "raw_counts <- raw_counts[,(colSums(raw_counts != 0) > 0)]\n",
    "meta_cell <- subset(meta_fin, donor_ID %in% colnames(raw_counts))\n",
    "meta_cell <- meta_cell[!duplicated(meta_cell$donor_ID),]\n",
    "raw_counts <- raw_counts[,which(colnames(raw_counts) %in% meta_fin$donor_ID)]\n",
    "counts <- raw_counts\n",
    "\n",
    "if (length(meta_cell$scaled_age) > 1){\n",
    "    print(cell)\n",
    "\n",
    "    my_design <- as.formula('~project + scaled_bmi + Sex + scaled_age + chemistry + tissue_source + condition')\n",
    "    #If no contrast is set in DESeq, default variable it is testing is the last variable in design\n",
    "    dds  <- DESeqDataSetFromMatrix(round(counts), colData = meta_cell, design = my_design) #colData is where design columns are found\n",
    "    dds <- DESeq(dds)  #Default's to Wald test, can alternatively select LRT here\n",
    "    res <- as.data.frame(results(dds))\n",
    "}"
   ]
  },
  {
   "cell_type": "code",
   "execution_count": 19,
   "id": "fifteen-conservative",
   "metadata": {},
   "outputs": [
    {
     "data": {
      "text/html": [
       "<table class=\"dataframe\">\n",
       "<caption>A data.frame: 3 × 6</caption>\n",
       "<thead>\n",
       "\t<tr><th></th><th scope=col>baseMean</th><th scope=col>log2FoldChange</th><th scope=col>lfcSE</th><th scope=col>stat</th><th scope=col>pvalue</th><th scope=col>padj</th></tr>\n",
       "\t<tr><th></th><th scope=col>&lt;dbl&gt;</th><th scope=col>&lt;dbl&gt;</th><th scope=col>&lt;dbl&gt;</th><th scope=col>&lt;dbl&gt;</th><th scope=col>&lt;dbl&gt;</th><th scope=col>&lt;dbl&gt;</th></tr>\n",
       "</thead>\n",
       "<tbody>\n",
       "\t<tr><th scope=row>CPA1</th><td>162416.26</td><td>-0.21985217</td><td>0.06723430</td><td>-3.269940</td><td>0.001075701</td><td>0.003227103</td></tr>\n",
       "\t<tr><th scope=row>PRSS2</th><td>497572.84</td><td>-0.15447010</td><td>0.09410370</td><td>-1.641488</td><td>0.100696144</td><td>0.151044215</td></tr>\n",
       "\t<tr><th scope=row>PNLIPRP1</th><td> 34820.66</td><td>-0.06452587</td><td>0.05398792</td><td>-1.195191</td><td>0.232012495</td><td>0.232012495</td></tr>\n",
       "</tbody>\n",
       "</table>\n"
      ],
      "text/latex": [
       "A data.frame: 3 × 6\n",
       "\\begin{tabular}{r|llllll}\n",
       "  & baseMean & log2FoldChange & lfcSE & stat & pvalue & padj\\\\\n",
       "  & <dbl> & <dbl> & <dbl> & <dbl> & <dbl> & <dbl>\\\\\n",
       "\\hline\n",
       "\tCPA1 & 162416.26 & -0.21985217 & 0.06723430 & -3.269940 & 0.001075701 & 0.003227103\\\\\n",
       "\tPRSS2 & 497572.84 & -0.15447010 & 0.09410370 & -1.641488 & 0.100696144 & 0.151044215\\\\\n",
       "\tPNLIPRP1 &  34820.66 & -0.06452587 & 0.05398792 & -1.195191 & 0.232012495 & 0.232012495\\\\\n",
       "\\end{tabular}\n"
      ],
      "text/markdown": [
       "\n",
       "A data.frame: 3 × 6\n",
       "\n",
       "| <!--/--> | baseMean &lt;dbl&gt; | log2FoldChange &lt;dbl&gt; | lfcSE &lt;dbl&gt; | stat &lt;dbl&gt; | pvalue &lt;dbl&gt; | padj &lt;dbl&gt; |\n",
       "|---|---|---|---|---|---|---|\n",
       "| CPA1 | 162416.26 | -0.21985217 | 0.06723430 | -3.269940 | 0.001075701 | 0.003227103 |\n",
       "| PRSS2 | 497572.84 | -0.15447010 | 0.09410370 | -1.641488 | 0.100696144 | 0.151044215 |\n",
       "| PNLIPRP1 |  34820.66 | -0.06452587 | 0.05398792 | -1.195191 | 0.232012495 | 0.232012495 |\n",
       "\n"
      ],
      "text/plain": [
       "         baseMean  log2FoldChange lfcSE      stat      pvalue      padj       \n",
       "CPA1     162416.26 -0.21985217    0.06723430 -3.269940 0.001075701 0.003227103\n",
       "PRSS2    497572.84 -0.15447010    0.09410370 -1.641488 0.100696144 0.151044215\n",
       "PNLIPRP1  34820.66 -0.06452587    0.05398792 -1.195191 0.232012495 0.232012495"
      ]
     },
     "metadata": {},
     "output_type": "display_data"
    }
   ],
   "source": [
    "res2 <- res[which(rownames(res) %in% c('CPA1', 'PNLIPRP1', 'PRSS2')),]\n",
    "res2$padj <- p.adjust(res2$pvalue, method='BH')\n",
    "res2"
   ]
  },
  {
   "cell_type": "code",
   "execution_count": 4,
   "id": "abroad-agreement",
   "metadata": {},
   "outputs": [
    {
     "data": {
      "text/plain": [
       "R version 4.3.3 (2024-02-29)\n",
       "Platform: x86_64-conda-linux-gnu (64-bit)\n",
       "Running under: CentOS Linux 7 (Core)\n",
       "\n",
       "Matrix products: default\n",
       "BLAS/LAPACK: /home/relgamal/miniconda3/envs/R-notebooks/lib/libopenblasp-r0.3.24.so;  LAPACK version 3.11.0\n",
       "\n",
       "locale:\n",
       " [1] LC_CTYPE=en_US.UTF-8       LC_NUMERIC=C              \n",
       " [3] LC_TIME=en_US.UTF-8        LC_COLLATE=en_US.UTF-8    \n",
       " [5] LC_MONETARY=en_US.UTF-8    LC_MESSAGES=en_US.UTF-8   \n",
       " [7] LC_PAPER=en_US.UTF-8       LC_NAME=C                 \n",
       " [9] LC_ADDRESS=C               LC_TELEPHONE=C            \n",
       "[11] LC_MEASUREMENT=en_US.UTF-8 LC_IDENTIFICATION=C       \n",
       "\n",
       "time zone: America/Los_Angeles\n",
       "tzcode source: system (glibc)\n",
       "\n",
       "attached base packages:\n",
       "[1] stats4    parallel  stats     graphics  grDevices utils     datasets \n",
       "[8] methods   base     \n",
       "\n",
       "other attached packages:\n",
       " [1] readxl_1.4.3                lmtest_0.9-40              \n",
       " [3] zoo_1.8-12                  data.table_1.15.4          \n",
       " [5] Seurat_5.0.3                SeuratObject_5.0.1         \n",
       " [7] sp_2.1-3                    GenomicFeatures_1.52.2     \n",
       " [9] AnnotationDbi_1.62.2        limma_3.56.2               \n",
       "[11] beeswarm_0.4.0              DESeq2_1.40.2              \n",
       "[13] SummarizedExperiment_1.30.2 Biobase_2.60.0             \n",
       "[15] MatrixGenerics_1.12.3       matrixStats_1.2.0          \n",
       "[17] GenomicRanges_1.52.1        GenomeInfoDb_1.36.4        \n",
       "[19] IRanges_2.34.1              S4Vectors_0.40.2           \n",
       "[21] BiocGenerics_0.48.1         readr_2.1.5                \n",
       "[23] stringr_1.5.1              \n",
       "\n",
       "loaded via a namespace (and not attached):\n",
       "  [1] RcppAnnoy_0.0.22         splines_4.3.3            later_1.3.2             \n",
       "  [4] pbdZMQ_0.3-11            BiocIO_1.10.0            bitops_1.0-7            \n",
       "  [7] filelock_1.0.3           cellranger_1.1.0         tibble_3.2.1            \n",
       " [10] polyclip_1.10-6          XML_3.99-0.16.1          fastDummies_1.7.3       \n",
       " [13] lifecycle_1.0.4          globals_0.16.2           lattice_0.22-5          \n",
       " [16] MASS_7.3-60.0.1          magrittr_2.0.3           plotly_4.10.4           \n",
       " [19] yaml_2.3.9               httpuv_1.6.15            sctransform_0.4.1       \n",
       " [22] spam_2.10-0              spatstat.sparse_3.0-3    reticulate_1.35.0       \n",
       " [25] cowplot_1.1.3            pbapply_1.7-2            DBI_1.2.2               \n",
       " [28] RColorBrewer_1.1-3       abind_1.4-5              zlibbioc_1.46.0         \n",
       " [31] Rtsne_0.17               purrr_1.0.2              RCurl_1.98-1.14         \n",
       " [34] rappdirs_0.3.3           GenomeInfoDbData_1.2.10  ggrepel_0.9.5           \n",
       " [37] irlba_2.3.5.1            spatstat.utils_3.0-4     listenv_0.9.1           \n",
       " [40] goftest_1.2-3            RSpectra_0.16-1          spatstat.random_3.2-3   \n",
       " [43] fitdistrplus_1.1-11      parallelly_1.37.1        leiden_0.4.3.1          \n",
       " [46] codetools_0.2-19         DelayedArray_0.26.7      xml2_1.3.6              \n",
       " [49] tidyselect_1.2.1         spatstat.explore_3.2-6   BiocFileCache_2.8.0     \n",
       " [52] base64enc_0.1-3          GenomicAlignments_1.36.0 jsonlite_1.8.8          \n",
       " [55] progressr_0.14.0         ggridges_0.5.6           survival_3.5-8          \n",
       " [58] tools_4.3.3              progress_1.2.3           ica_1.0-3               \n",
       " [61] Rcpp_1.0.12              glue_1.7.0               gridExtra_2.3           \n",
       " [64] IRdisplay_1.1            dplyr_1.1.4              fastmap_1.2.0           \n",
       " [67] fansi_1.0.6              digest_0.6.36            R6_2.5.1                \n",
       " [70] mime_0.12                colorspace_2.1-0         scattermore_1.2         \n",
       " [73] tensor_1.5               spatstat.data_3.0-4      biomaRt_2.56.1          \n",
       " [76] RSQLite_2.3.6            utf8_1.2.4               tidyr_1.3.1             \n",
       " [79] generics_0.1.3           rtracklayer_1.60.1       prettyunits_1.2.0       \n",
       " [82] httr_1.4.7               htmlwidgets_1.6.4        S4Arrays_1.0.6          \n",
       " [85] uwot_0.1.16              pkgconfig_2.0.3          gtable_0.3.5            \n",
       " [88] blob_1.2.4               XVector_0.40.0           htmltools_0.5.8.1       \n",
       " [91] dotCall64_1.1-1          scales_1.3.0             png_0.1-8               \n",
       " [94] reshape2_1.4.4           tzdb_0.4.0               rjson_0.2.21            \n",
       " [97] uuid_1.2-0               nlme_3.1-164             curl_5.2.1              \n",
       "[100] repr_1.1.6               cachem_1.1.0             KernSmooth_2.23-22      \n",
       "[103] miniUI_0.1.1.1           restfulr_0.0.15          pillar_1.9.0            \n",
       "[106] grid_4.3.3               vctrs_0.6.5              RANN_2.6.1              \n",
       "[109] promises_1.3.0           dbplyr_2.4.0             xtable_1.8-4            \n",
       "[112] cluster_2.1.6            evaluate_0.24.0          cli_3.6.3               \n",
       "[115] locfit_1.5-9.9           compiler_4.3.3           Rsamtools_2.16.0        \n",
       "[118] rlang_1.1.4.9000         crayon_1.5.3             future.apply_1.11.1     \n",
       "[121] plyr_1.8.9               stringi_1.8.4            deldir_2.0-4            \n",
       "[124] viridisLite_0.4.2        BiocParallel_1.36.0      munsell_0.5.1           \n",
       "[127] Biostrings_2.68.1        lazyeval_0.2.2           spatstat.geom_3.2-9     \n",
       "[130] Matrix_1.6-5             IRkernel_1.3.2           RcppHNSW_0.6.0          \n",
       "[133] hms_1.1.3                patchwork_1.2.0          bit64_4.0.5             \n",
       "[136] future_1.33.1            ggplot2_3.5.1            KEGGREST_1.40.1         \n",
       "[139] shiny_1.8.1.1            ROCR_1.0-11              igraph_1.6.0            \n",
       "[142] memoise_2.0.1            bit_4.0.5               "
      ]
     },
     "metadata": {},
     "output_type": "display_data"
    }
   ],
   "source": [
    "sessionInfo()"
   ]
  },
  {
   "cell_type": "code",
   "execution_count": null,
   "id": "sized-birthday",
   "metadata": {},
   "outputs": [],
   "source": []
  }
 ],
 "metadata": {
  "kernelspec": {
   "display_name": "R [conda env:R-notebooks]",
   "language": "R",
   "name": "conda-env-R-notebooks-r"
  },
  "language_info": {
   "codemirror_mode": "r",
   "file_extension": ".r",
   "mimetype": "text/x-r-source",
   "name": "R",
   "pygments_lexer": "r",
   "version": "4.3.3"
  }
 },
 "nbformat": 4,
 "nbformat_minor": 5
}
